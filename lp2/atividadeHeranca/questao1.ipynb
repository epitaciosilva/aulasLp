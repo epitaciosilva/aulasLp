{
 "cells": [
  {
   "cell_type": "code",
   "execution_count": 27,
   "metadata": {},
   "outputs": [],
   "source": [
    "class Ponto2D:\n",
    "    def __init__(self, x, y):\n",
    "        self.x = x\n",
    "        self.y = y\n",
    "    \n",
    "    def __str__(self):\n",
    "        return \"Ponto({}, {})\".format(self.x, self.y)\n",
    "    \n",
    "    @property\n",
    "    def x(self):\n",
    "        return self.__x\n",
    "    \n",
    "    @x.setter\n",
    "    def x(self, x):\n",
    "        self.__x = x\n",
    "        \n",
    "    @property\n",
    "    def y(self):\n",
    "        return self.__y\n",
    "    \n",
    "    @y.setter\n",
    "    def y(self, y):\n",
    "        self.__y = y\n",
    "    "
   ]
  },
  {
   "cell_type": "code",
   "execution_count": 30,
   "metadata": {},
   "outputs": [],
   "source": [
    "class Ponto3D(Ponto2D):\n",
    "    def __init__(self, x, y, z):\n",
    "        super().__init__(x,y)\n",
    "        self.__z = z\n",
    "    \n",
    "    def __str__(self):\n",
    "        return Ponto2D.__str__(self).replace(')', \", {})\".format(self.z))\n",
    "    \n",
    "    @property\n",
    "    def z(self):\n",
    "        return self.__z\n",
    "    \n",
    "    @z.setter\n",
    "    def z(self, z):\n",
    "        self.__z = z"
   ]
  },
  {
   "cell_type": "code",
   "execution_count": 32,
   "metadata": {
    "scrolled": true
   },
   "outputs": [
    {
     "name": "stdout",
     "output_type": "stream",
     "text": [
      "Ponto(2, 3)\n"
     ]
    }
   ],
   "source": [
    "ponto2d = Ponto2D(2,3)\n",
    "print(ponto2d)"
   ]
  },
  {
   "cell_type": "code",
   "execution_count": 33,
   "metadata": {},
   "outputs": [
    {
     "name": "stdout",
     "output_type": "stream",
     "text": [
      "Ponto(1, 2, 3)\n"
     ]
    }
   ],
   "source": [
    "ponto3d = Ponto3D(1,2,3)\n",
    "print(ponto3d)"
   ]
  }
 ],
 "metadata": {
  "kernelspec": {
   "display_name": "Python 3",
   "language": "python",
   "name": "python3"
  },
  "language_info": {
   "codemirror_mode": {
    "name": "ipython",
    "version": 3
   },
   "file_extension": ".py",
   "mimetype": "text/x-python",
   "name": "python",
   "nbconvert_exporter": "python",
   "pygments_lexer": "ipython3",
   "version": "3.6.5"
  }
 },
 "nbformat": 4,
 "nbformat_minor": 2
}
