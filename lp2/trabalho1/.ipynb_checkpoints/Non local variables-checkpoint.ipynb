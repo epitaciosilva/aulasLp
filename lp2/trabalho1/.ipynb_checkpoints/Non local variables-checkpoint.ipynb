{
 "cells": [
  {
   "cell_type": "markdown",
   "metadata": {},
   "source": [
    "## Variáveis globais\n",
    "Em python uma váriavel declarada fora do escopo de uma função é tratada como global"
   ]
  },
  {
   "cell_type": "code",
   "execution_count": 5,
   "metadata": {},
   "outputs": [
    {
     "name": "stdout",
     "output_type": "stream",
     "text": [
      "Valor dentro da função é:  global\n",
      "Valor fora da função é:  global\n"
     ]
    }
   ],
   "source": [
    "x = \"global\"\n",
    "\n",
    "def fun():\n",
    "    print(\"Valor dentro da função é: \", x)\n",
    "    \n",
    "fun()\n",
    "print(\"Valor fora da função é: \", x)"
   ]
  },
  {
   "cell_type": "markdown",
   "metadata": {},
   "source": [
    "Quando utilizamos um valor de x declarado como ` global ` e depois x declarado dentro do escopo de uma função recebemos um erro ` UnboundLocalError: local variable 'x' referenced before assignment ` pois o python não sabe como tratar aquela variável, exemplo:"
   ]
  },
  {
   "cell_type": "code",
   "execution_count": 11,
   "metadata": {},
   "outputs": [
    {
     "ename": "UnboundLocalError",
     "evalue": "local variable 'x' referenced before assignment",
     "output_type": "error",
     "traceback": [
      "\u001b[0;31m---------------------------------------------------------------------------\u001b[0m",
      "\u001b[0;31mUnboundLocalError\u001b[0m                         Traceback (most recent call last)",
      "\u001b[0;32m<ipython-input-11-68f492bd0666>\u001b[0m in \u001b[0;36m<module>\u001b[0;34m()\u001b[0m\n\u001b[1;32m      5\u001b[0m     \u001b[0mprint\u001b[0m\u001b[0;34m(\u001b[0m\u001b[0;34m\"Valor dentro da função é: \"\u001b[0m\u001b[0;34m,\u001b[0m \u001b[0mx\u001b[0m\u001b[0;34m)\u001b[0m\u001b[0;34m\u001b[0m\u001b[0m\n\u001b[1;32m      6\u001b[0m \u001b[0;34m\u001b[0m\u001b[0m\n\u001b[0;32m----> 7\u001b[0;31m \u001b[0mfun\u001b[0m\u001b[0;34m(\u001b[0m\u001b[0;34m)\u001b[0m\u001b[0;34m\u001b[0m\u001b[0m\n\u001b[0m\u001b[1;32m      8\u001b[0m \u001b[0mprint\u001b[0m\u001b[0;34m(\u001b[0m\u001b[0;34m\"Valor fora da função é: \"\u001b[0m\u001b[0;34m,\u001b[0m \u001b[0mx\u001b[0m\u001b[0;34m)\u001b[0m\u001b[0;34m\u001b[0m\u001b[0m\n",
      "\u001b[0;32m<ipython-input-11-68f492bd0666>\u001b[0m in \u001b[0;36mfun\u001b[0;34m()\u001b[0m\n\u001b[1;32m      2\u001b[0m \u001b[0;34m\u001b[0m\u001b[0m\n\u001b[1;32m      3\u001b[0m \u001b[0;32mdef\u001b[0m \u001b[0mfun\u001b[0m\u001b[0;34m(\u001b[0m\u001b[0;34m)\u001b[0m\u001b[0;34m:\u001b[0m\u001b[0;34m\u001b[0m\u001b[0m\n\u001b[0;32m----> 4\u001b[0;31m     \u001b[0mx\u001b[0m \u001b[0;34m+=\u001b[0m \u001b[0;36m1\u001b[0m\u001b[0;34m\u001b[0m\u001b[0m\n\u001b[0m\u001b[1;32m      5\u001b[0m     \u001b[0mprint\u001b[0m\u001b[0;34m(\u001b[0m\u001b[0;34m\"Valor dentro da função é: \"\u001b[0m\u001b[0;34m,\u001b[0m \u001b[0mx\u001b[0m\u001b[0;34m)\u001b[0m\u001b[0;34m\u001b[0m\u001b[0m\n\u001b[1;32m      6\u001b[0m \u001b[0;34m\u001b[0m\u001b[0m\n",
      "\u001b[0;31mUnboundLocalError\u001b[0m: local variable 'x' referenced before assignment"
     ]
    }
   ],
   "source": [
    "x = 0\n",
    "\n",
    "def fun():\n",
    "    x += 1\n",
    "    print(\"Valor dentro da função é: \", x)\n",
    "    \n",
    "fun()\n",
    "print(\"Valor fora da função é: \", x)"
   ]
  },
  {
   "cell_type": "markdown",
   "metadata": {},
   "source": [
    "Podemos contornar o erro anterior declarando que usaremos o escopo global na função"
   ]
  },
  {
   "cell_type": "code",
   "execution_count": 13,
   "metadata": {},
   "outputs": [
    {
     "name": "stdout",
     "output_type": "stream",
     "text": [
      "Valor dentro da função é:  1\n",
      "Valor fora da função é:  1\n"
     ]
    }
   ],
   "source": [
    "x = 0\n",
    "\n",
    "def fun():\n",
    "    global x\n",
    "    x += 1\n",
    "    print(\"Valor dentro da função é: \", x)\n",
    "    \n",
    "fun()\n",
    "\n",
    "print(\"Valor fora da função é: \", x)"
   ]
  },
  {
   "cell_type": "markdown",
   "metadata": {},
   "source": [
    "## Variáveis globais e locais\n",
    "\n",
    "Se definirmos uma variavel global e local com o mesmo nome, o python diferencia o valor de acordo com o escopo da função "
   ]
  },
  {
   "cell_type": "code",
   "execution_count": 15,
   "metadata": {},
   "outputs": [
    {
     "name": "stdout",
     "output_type": "stream",
     "text": [
      "Valor dentro da função é:  1\n",
      "Valor fora da função é:  0\n"
     ]
    }
   ],
   "source": [
    "x = 0\n",
    "\n",
    "def fun():\n",
    "    x = 1\n",
    "    print(\"Valor dentro da função é: \", x)\n",
    "    \n",
    "fun()\n",
    "\n",
    "print(\"Valor fora da função é: \", x)"
   ]
  },
  {
   "cell_type": "markdown",
   "metadata": {},
   "source": [
    "## Non local variables\n",
    "\n",
    "Utilizadas em \"nested functions\" (funções aninhadas) cujo escopo local não está definido. A variável pode não estar no escopo local e nem no global.\n",
    "\n",
    "Note que, no exemplo abaixo, se mudarmos o valor de uma variavel nonlocal, as modificações também são feitas em escopo local."
   ]
  },
  {
   "cell_type": "code",
   "execution_count": 5,
   "metadata": {
    "scrolled": false
   },
   "outputs": [
    {
     "name": "stdout",
     "output_type": "stream",
     "text": [
      "fun2: nonlocal\n",
      "fun1: nonlocal\n"
     ]
    }
   ],
   "source": [
    "def fun1():\n",
    "    x = \"local\"\n",
    "    \n",
    "    def fun2():\n",
    "        nonlocal x\n",
    "        x = \"nonlocal\"\n",
    "        print(\"fun2:\", x)\n",
    "    \n",
    "    fun2()\n",
    "    print(\"fun1:\", x)\n",
    "\n",
    "fun1()"
   ]
  },
  {
   "cell_type": "markdown",
   "metadata": {},
   "source": [
    "Mesmo tendo declarado uma variável `global`, com o `nonlocal` as alterações só ocorrem no escorpo local."
   ]
  },
  {
   "cell_type": "code",
   "execution_count": 15,
   "metadata": {},
   "outputs": [
    {
     "name": "stdout",
     "output_type": "stream",
     "text": [
      "fun2: nonlocal\n",
      "fun1: nonlocal\n",
      "funGlobal: global\n"
     ]
    }
   ],
   "source": [
    "z = \"global\"\n",
    "\n",
    "def fun1():\n",
    "    z = \"local\"\n",
    "    \n",
    "    def fun2():\n",
    "        nonlocal z\n",
    "        z = \"nonlocal\"\n",
    "        print(\"fun2:\", z)\n",
    "    \n",
    "    fun2()\n",
    "    print(\"fun1:\", z)\n",
    "\n",
    "fun1()\n",
    "print(\"funGlobal:\", z)"
   ]
  },
  {
   "cell_type": "code",
   "execution_count": 21,
   "metadata": {},
   "outputs": [
    {
     "name": "stdout",
     "output_type": "stream",
     "text": [
      "fun2: nonlocal\n",
      "fun3: local\n",
      "fun1: nonlocal\n",
      "fun0: local\n"
     ]
    }
   ],
   "source": [
    "z = \"global\"\n",
    "\n",
    "def fun1():\n",
    "    z = \"local\"\n",
    "    \n",
    "    def fun2():\n",
    "        nonlocal z\n",
    "        z = \"nonlocal\"\n",
    "        print(\"fun2:\", z)\n",
    "        \n",
    "    def fun3():\n",
    "        global z\n",
    "        z = \"local\"\n",
    "        print(\"fun3:\", z)\n",
    "        \n",
    "    fun2()\n",
    "    fun3()\n",
    "    print(\"fun1:\", z)\n",
    "\n",
    "fun1()\n",
    "print(\"fun0:\", z)"
   ]
  },
  {
   "cell_type": "markdown",
   "metadata": {},
   "source": [
    "## Bibliografia\n",
    "\n",
    "[Referência documentação python de nonlocal](https://docs.python.org/3/reference/simple_stmts.html#nonlocal)\n",
    "\n",
    "\n",
    "[PEP 3140](https://www.python.org/dev/peps/pep-3104/)"
   ]
  },
  {
   "cell_type": "code",
   "execution_count": null,
   "metadata": {},
   "outputs": [],
   "source": []
  }
 ],
 "metadata": {
  "kernelspec": {
   "display_name": "Python 3",
   "language": "python",
   "name": "python3"
  },
  "language_info": {
   "codemirror_mode": {
    "name": "ipython",
    "version": 3
   },
   "file_extension": ".py",
   "mimetype": "text/x-python",
   "name": "python",
   "nbconvert_exporter": "python",
   "pygments_lexer": "ipython3",
   "version": "3.6.4"
  }
 },
 "nbformat": 4,
 "nbformat_minor": 2
}
